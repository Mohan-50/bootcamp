{
 "cells": [
  {
   "cell_type": "code",
   "execution_count": 2,
   "id": "a975c8a1-8d2e-4b5c-a9b0-4d7563157108",
   "metadata": {},
   "outputs": [
    {
     "name": "stdout",
     "output_type": "stream",
     "text": [
      "Buddy is barking\n",
      "Buddy is sleeping...\n"
     ]
    }
   ],
   "source": [
    "class Dog:\n",
    "    def __init__(self, name, age):\n",
    "        self.name, self.age = name, age\n",
    "\n",
    "    def bark(self): return f\"{self.name} is barking\"\n",
    "    def sleep(self): return f\"{self.name} is sleeping...\"\n",
    "\n",
    "\n",
    "dog1 = Dog(\"Buddy\", 3)\n",
    "print(dog1.bark())   \n",
    "print(dog1.sleep())  "
   ]
  },
  {
   "cell_type": "code",
   "execution_count": null,
   "id": "b5529ac6-60a5-4f7a-9dcb-d2c0ae331c1c",
   "metadata": {},
   "outputs": [],
   "source": []
  }
 ],
 "metadata": {
  "kernelspec": {
   "display_name": "Python 3 (ipykernel)",
   "language": "python",
   "name": "python3"
  },
  "language_info": {
   "codemirror_mode": {
    "name": "ipython",
    "version": 3
   },
   "file_extension": ".py",
   "mimetype": "text/x-python",
   "name": "python",
   "nbconvert_exporter": "python",
   "pygments_lexer": "ipython3",
   "version": "3.11.9"
  }
 },
 "nbformat": 4,
 "nbformat_minor": 5
}
